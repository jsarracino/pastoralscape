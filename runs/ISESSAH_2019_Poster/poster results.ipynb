{
 "cells": [
  {
   "cell_type": "code",
   "execution_count": 55,
   "metadata": {},
   "outputs": [],
   "source": [
    "import pandas as pd\n",
    "import numpy as np\n",
    "import matplotlib.pyplot as plt"
   ]
  },
  {
   "cell_type": "code",
   "execution_count": 39,
   "metadata": {},
   "outputs": [],
   "source": [
    "data={}"
   ]
  },
  {
   "cell_type": "code",
   "execution_count": 85,
   "metadata": {},
   "outputs": [],
   "source": [
    "novaccine=pd.read_csv('out_novaccine.csv')\n",
    "data[0.0]=pd.read_csv('out_rvf0.0_cbpp0.0.csv')\n",
    "data[0.1]=pd.read_csv('out_rvf0.1_cbpp0.1.csv')\n",
    "data[0.2]=pd.read_csv('out_rvf0.2_cbpp0.2.csv')\n",
    "data[0.5]=pd.read_csv('out_rvf0.5_cbpp0.5.csv')\n",
    "data[1.0]=pd.read_csv('out_rvf1.0_cbpp1.0.csv')\n",
    "data[2.5]=pd.read_csv('out_rvf2.5_cbpp2.5.csv')\n",
    "data[5.0]=pd.read_csv('out_rvf5.0_cbpp5.0.csv')"
   ]
  },
  {
   "cell_type": "code",
   "execution_count": 86,
   "metadata": {},
   "outputs": [],
   "source": [
    "means={}"
   ]
  },
  {
   "cell_type": "code",
   "execution_count": 87,
   "metadata": {},
   "outputs": [],
   "source": [
    "for beta in data:\n",
    "    means[beta] = data[beta].mean()"
   ]
  },
  {
   "cell_type": "code",
   "execution_count": 88,
   "metadata": {},
   "outputs": [],
   "source": [
    "keys={'d_oldage','d_health','d_rvf','d_cbpp','hsize_mean','hsize_min','hsize_max','rvf','cbpp'}"
   ]
  },
  {
   "cell_type": "code",
   "execution_count": 89,
   "metadata": {},
   "outputs": [],
   "source": [
    "d={k:[means[beta][k] for beta in data] for k in keys}\n",
    "d['beta'] = [beta for beta in data]\n",
    "df = pd.DataFrame(d)"
   ]
  },
  {
   "cell_type": "code",
   "execution_count": 90,
   "metadata": {},
   "outputs": [
    {
     "data": {
      "text/html": [
       "<div>\n",
       "<style scoped>\n",
       "    .dataframe tbody tr th:only-of-type {\n",
       "        vertical-align: middle;\n",
       "    }\n",
       "\n",
       "    .dataframe tbody tr th {\n",
       "        vertical-align: top;\n",
       "    }\n",
       "\n",
       "    .dataframe thead th {\n",
       "        text-align: right;\n",
       "    }\n",
       "</style>\n",
       "<table border=\"1\" class=\"dataframe\">\n",
       "  <thead>\n",
       "    <tr style=\"text-align: right;\">\n",
       "      <th></th>\n",
       "      <th>rvf</th>\n",
       "      <th>d_oldage</th>\n",
       "      <th>hsize_mean</th>\n",
       "      <th>d_rvf</th>\n",
       "      <th>d_cbpp</th>\n",
       "      <th>hsize_min</th>\n",
       "      <th>cbpp</th>\n",
       "      <th>d_health</th>\n",
       "      <th>hsize_max</th>\n",
       "      <th>beta</th>\n",
       "    </tr>\n",
       "  </thead>\n",
       "  <tbody>\n",
       "    <tr>\n",
       "      <th>0</th>\n",
       "      <td>-0.019592</td>\n",
       "      <td>1702.612245</td>\n",
       "      <td>2.264490</td>\n",
       "      <td>513.224490</td>\n",
       "      <td>231.326531</td>\n",
       "      <td>0.0</td>\n",
       "      <td>-0.003673</td>\n",
       "      <td>15.673469</td>\n",
       "      <td>20.428571</td>\n",
       "      <td>0.0</td>\n",
       "    </tr>\n",
       "    <tr>\n",
       "      <th>5</th>\n",
       "      <td>0.147347</td>\n",
       "      <td>1737.306122</td>\n",
       "      <td>2.411633</td>\n",
       "      <td>500.918367</td>\n",
       "      <td>190.918367</td>\n",
       "      <td>0.0</td>\n",
       "      <td>0.228980</td>\n",
       "      <td>15.795918</td>\n",
       "      <td>21.551020</td>\n",
       "      <td>0.1</td>\n",
       "    </tr>\n",
       "    <tr>\n",
       "      <th>6</th>\n",
       "      <td>0.534694</td>\n",
       "      <td>1784.081633</td>\n",
       "      <td>3.021224</td>\n",
       "      <td>492.979592</td>\n",
       "      <td>135.346939</td>\n",
       "      <td>0.0</td>\n",
       "      <td>0.654694</td>\n",
       "      <td>15.816327</td>\n",
       "      <td>24.653061</td>\n",
       "      <td>0.2</td>\n",
       "    </tr>\n",
       "    <tr>\n",
       "      <th>1</th>\n",
       "      <td>0.953061</td>\n",
       "      <td>1818.285714</td>\n",
       "      <td>3.383265</td>\n",
       "      <td>479.897959</td>\n",
       "      <td>101.000000</td>\n",
       "      <td>0.0</td>\n",
       "      <td>0.979592</td>\n",
       "      <td>17.265306</td>\n",
       "      <td>26.795918</td>\n",
       "      <td>0.5</td>\n",
       "    </tr>\n",
       "    <tr>\n",
       "      <th>2</th>\n",
       "      <td>0.987347</td>\n",
       "      <td>1824.040816</td>\n",
       "      <td>3.422449</td>\n",
       "      <td>481.081633</td>\n",
       "      <td>99.897959</td>\n",
       "      <td>0.0</td>\n",
       "      <td>0.995510</td>\n",
       "      <td>17.448980</td>\n",
       "      <td>26.346939</td>\n",
       "      <td>1.0</td>\n",
       "    </tr>\n",
       "    <tr>\n",
       "      <th>3</th>\n",
       "      <td>0.993061</td>\n",
       "      <td>1824.693878</td>\n",
       "      <td>3.384286</td>\n",
       "      <td>480.346939</td>\n",
       "      <td>99.163265</td>\n",
       "      <td>0.0</td>\n",
       "      <td>0.997959</td>\n",
       "      <td>17.326531</td>\n",
       "      <td>25.061224</td>\n",
       "      <td>2.5</td>\n",
       "    </tr>\n",
       "    <tr>\n",
       "      <th>4</th>\n",
       "      <td>0.994694</td>\n",
       "      <td>1824.469388</td>\n",
       "      <td>3.384286</td>\n",
       "      <td>479.938776</td>\n",
       "      <td>99.204082</td>\n",
       "      <td>0.0</td>\n",
       "      <td>0.998776</td>\n",
       "      <td>17.428571</td>\n",
       "      <td>25.224490</td>\n",
       "      <td>5.0</td>\n",
       "    </tr>\n",
       "  </tbody>\n",
       "</table>\n",
       "</div>"
      ],
      "text/plain": [
       "        rvf     d_oldage  hsize_mean       d_rvf      d_cbpp  hsize_min  \\\n",
       "0 -0.019592  1702.612245    2.264490  513.224490  231.326531        0.0   \n",
       "5  0.147347  1737.306122    2.411633  500.918367  190.918367        0.0   \n",
       "6  0.534694  1784.081633    3.021224  492.979592  135.346939        0.0   \n",
       "1  0.953061  1818.285714    3.383265  479.897959  101.000000        0.0   \n",
       "2  0.987347  1824.040816    3.422449  481.081633   99.897959        0.0   \n",
       "3  0.993061  1824.693878    3.384286  480.346939   99.163265        0.0   \n",
       "4  0.994694  1824.469388    3.384286  479.938776   99.204082        0.0   \n",
       "\n",
       "       cbpp   d_health  hsize_max  beta  \n",
       "0 -0.003673  15.673469  20.428571   0.0  \n",
       "5  0.228980  15.795918  21.551020   0.1  \n",
       "6  0.654694  15.816327  24.653061   0.2  \n",
       "1  0.979592  17.265306  26.795918   0.5  \n",
       "2  0.995510  17.448980  26.346939   1.0  \n",
       "3  0.997959  17.326531  25.061224   2.5  \n",
       "4  0.998776  17.428571  25.224490   5.0  "
      ]
     },
     "execution_count": 90,
     "metadata": {},
     "output_type": "execute_result"
    }
   ],
   "source": [
    "df=df.sort_values(by='beta')\n",
    "df"
   ]
  },
  {
   "cell_type": "code",
   "execution_count": 91,
   "metadata": {},
   "outputs": [],
   "source": [
    "df.to_csv('model_results.csv')"
   ]
  },
  {
   "cell_type": "code",
   "execution_count": 92,
   "metadata": {},
   "outputs": [
    {
     "data": {
      "image/png": "[encoded data removed]",
      "text/plain": [
       "<Figure size 432x288 with 1 Axes>"
      ]
     },
     "metadata": {
      "needs_background": "light"
     },
     "output_type": "display_data"
    }
   ],
   "source": [
    "df.plot(x='beta',y='d_cbpp',style='o')\n",
    "plt.savefig('beta_dcbpp.png')"
   ]
  },
  {
   "cell_type": "code",
   "execution_count": 93,
   "metadata": {},
   "outputs": [
    {
     "data": {
      "image/png": "[encoded data removed]",
      "text/plain": [
       "<Figure size 432x288 with 1 Axes>"
      ]
     },
     "metadata": {
      "needs_background": "light"
     },
     "output_type": "display_data"
    }
   ],
   "source": [
    "df.plot(x='beta',y='d_rvf',style='o')\n",
    "plt.savefig('beta_drvf.png')"
   ]
  },
  {
   "cell_type": "code",
   "execution_count": 94,
   "metadata": {},
   "outputs": [
    {
     "data": {
      "image/png": "[encoded data removed]",
      "text/plain": [
       "<Figure size 432x288 with 1 Axes>"
      ]
     },
     "metadata": {
      "needs_background": "light"
     },
     "output_type": "display_data"
    }
   ],
   "source": [
    "df.plot(x='beta',y='hsize_mean',style='o')\n",
    "plt.savefig('beta_hsizemean.png')"
   ]
  },
  {
   "cell_type": "code",
   "execution_count": 96,
   "metadata": {},
   "outputs": [
    {
     "data": {
      "text/plain": [
       "d_oldage      1427.795918\n",
       "d_health         9.489796\n",
       "d_rvf          634.979592\n",
       "d_cbpp         381.979592\n",
       "hsize_mean       0.230000\n",
       "hsize_min        0.000000\n",
       "hsize_max        5.836735\n",
       "rvf             -0.013469\n",
       "cbpp            -0.004082\n",
       "dtype: float64"
      ]
     },
     "execution_count": 96,
     "metadata": {},
     "output_type": "execute_result"
    }
   ],
   "source": [
    "novaccine.mean()"
   ]
  },
  {
   "cell_type": "code",
   "execution_count": null,
   "metadata": {},
   "outputs": [],
   "source": []
  },
  {
   "cell_type": "code",
   "execution_count": null,
   "metadata": {},
   "outputs": [],
   "source": []
  }
 ],
 "metadata": {
  "kernelspec": {
   "display_name": "Python 3",
   "language": "python",
   "name": "python3"
  },
  "language_info": {
   "codemirror_mode": {
    "name": "ipython",
    "version": 3
   },
   "file_extension": ".py",
   "mimetype": "text/x-python",
   "name": "python",
   "nbconvert_exporter": "python",
   "pygments_lexer": "ipython3",
   "version": "3.7.3"
  }
 },
 "nbformat": 4,
 "nbformat_minor": 2
}
